{
 "cells": [
  {
   "cell_type": "code",
   "execution_count": 30,
   "metadata": {},
   "outputs": [],
   "source": [
    "import torch\n",
    "from torchvision.io import read_image\n",
    "from torchvision.utils import draw_segmentation_masks,draw_bounding_boxes\n",
    "from torchvision.ops import masks_to_boxes\n",
    "import torchvision.transforms.functional as F\n",
    "\n",
    "import numpy as np\n",
    "from path import Path\n",
    "import matplotlib.pyplot as plt\n",
    "plt.rcParams[\"savefig.bbox\"] = \"tight\""
   ]
  },
  {
   "attachments": {},
   "cell_type": "markdown",
   "metadata": {},
   "source": [
    "## 实例分割转目标检测"
   ]
  },
  {
   "cell_type": "code",
   "execution_count": 31,
   "metadata": {},
   "outputs": [],
   "source": [
    "def show(imgs):\n",
    "    if not isinstance(imgs, list):\n",
    "        imgs = [imgs]\n",
    "    fix, axs = plt.subplots(ncols=len(imgs), squeeze=False)\n",
    "    for i, img in enumerate(imgs):\n",
    "        img = img.detach()\n",
    "        img = F.to_pil_image(img)\n",
    "        axs[0, i].imshow(np.asarray(img))\n",
    "        axs[0, i].set(xticklabels=[], yticklabels=[], xticks=[], yticks=[])"
   ]
  },
  {
   "cell_type": "code",
   "execution_count": null,
   "metadata": {},
   "outputs": [],
   "source": [
    "maskpath=Path(r'0.png')\n",
    "imagepath=Path(r'0.jpg')\n",
    "mask=read_image(maskpath)\n",
    "img=read_image(imagepath)\n",
    "\n",
    "obj_ids = torch.unique(mask)\n",
    "\n",
    "# first id is the background, so remove it.\n",
    "obj_ids = obj_ids[1:]\n",
    "\n",
    "# split the color-encoded mask into a set of boolean masks.\n",
    "# Note that this snippet would work as well if the masks were float values instead of ints.\n",
    "masks = mask == obj_ids[:, None, None]\n",
    "masks.size()"
   ]
  },
  {
   "cell_type": "code",
   "execution_count": null,
   "metadata": {},
   "outputs": [],
   "source": [
    "\n",
    "drawn_masks = []\n",
    "for mask in masks:\n",
    "    drawn_masks.append(draw_segmentation_masks(img, mask, alpha=0.8, colors=\"blue\"))\n",
    "\n",
    "show(drawn_masks)"
   ]
  },
  {
   "cell_type": "code",
   "execution_count": null,
   "metadata": {},
   "outputs": [],
   "source": [
    "boxes = masks_to_boxes(masks)\n",
    "print(boxes.size())\n",
    "print(boxes)"
   ]
  },
  {
   "cell_type": "code",
   "execution_count": null,
   "metadata": {},
   "outputs": [],
   "source": [
    "drawn_boxes = draw_bounding_boxes(img, boxes, colors=\"red\")\n",
    "show(drawn_boxes)"
   ]
  },
  {
   "cell_type": "markdown",
   "metadata": {},
   "source": [
    "## 语义分割转目标检测"
   ]
  },
  {
   "cell_type": "code",
   "execution_count": 35,
   "metadata": {},
   "outputs": [],
   "source": [
    "import cv2\n",
    "from path import Path\n",
    "import numpy as np\n",
    "from skimage import morphology,measure\n",
    "import matplotlib.pyplot as plt"
   ]
  },
  {
   "cell_type": "code",
   "execution_count": 36,
   "metadata": {},
   "outputs": [],
   "source": [
    "\n",
    "\n",
    "def getboundingbox(imdata:np.array,min_size=10):\n",
    "    mask=imdata>0\n",
    "    # 删掉小于min_size的目标\n",
    "    mask_without_small = morphology.remove_small_objects(mask,min_size=min_size,connectivity=2)\n",
    "    # 连通域标记\n",
    "    label_image = measure.label(mask_without_small,connectivity=2)\n",
    "    #得到锚框\n",
    "    regionprops= measure.regionprops(label_image)\n",
    "    boundingbox = [region.bbox for region in regionprops]\n",
    "    boundingbox = [[box[1],box[0],box[3],box[2]] for box in boundingbox]\n",
    "    return boundingbox"
   ]
  },
  {
   "cell_type": "code",
   "execution_count": 37,
   "metadata": {},
   "outputs": [],
   "source": [
    "def newgetboundingbox(imdata:np.array, min_size=2, ksize=(5,5)):\n",
    "    # 通过膨胀去连通，可以min_size筛除小目标,或者通过锚框面积筛除\n",
    "    # 通过kernel调整膨胀\n",
    "    ## 膨胀\n",
    "    kernel = cv2.getStructuringElement(cv2.MORPH_ELLIPSE, ksize=ksize)\n",
    "    dilated = cv2.dilate(imdata.copy(), kernel, 1)\n",
    "    # plt.imshow(dilated)\n",
    "    bboxs = getboundingbox(dilated,min_size)\n",
    "    # print(bboxs)\n",
    "    ## 细化锚框\n",
    "    tbboxs =getboundingbox(imdata,min_size)\n",
    "    # print(tbboxs)\n",
    "    cluster=[]\n",
    "    for bbox in bboxs:\n",
    "        tmp=[]\n",
    "        for tbbox in tbboxs:\n",
    "            if tbbox[0]>=bbox[0] and tbbox[1]>=bbox[1] and tbbox[2]<=bbox[2] and tbbox[3]<=bbox[3]:\n",
    "                tmp.append(tbbox)\n",
    "        cluster.append(tmp)\n",
    "\n",
    "    res=[]\n",
    "    for i in cluster:\n",
    "        # print(i)\n",
    "        xy=list(zip(*i))\n",
    "        if xy:\n",
    "            res.append([min(xy[0]),min(xy[1]),max(xy[2]),max(xy[3])])\n",
    "    return res"
   ]
  },
  {
   "cell_type": "code",
   "execution_count": null,
   "metadata": {},
   "outputs": [],
   "source": [
    "maskpath=Path(r'D:\\nn\\code\\datasets\\fire\\satellite\\seg\\25.png')\n",
    "im=cv2.imread(maskpath,0)\n",
    "\n",
    "res=newgetboundingbox(im)\n",
    "\n",
    "# 考虑DBSCAN是否可以实现\n",
    "\n",
    "for box in res:\n",
    "    cv2.rectangle(img=im,\n",
    "                  pt1=(box[0], box[1]),\n",
    "                  pt2=(box[2], box[3]),\n",
    "                  color=(255, 0, 0), \n",
    "                  thickness=2)\n",
    "    cv2.putText(img=im, \n",
    "                text='fire', \n",
    "                org=(box[0],box[1]-5),\n",
    "                fontFace=cv2.FONT_HERSHEY_COMPLEX,\n",
    "                fontScale=0.7,\n",
    "                color=(255,0,0),\n",
    "                thickness=1,\n",
    "                lineType=cv2.LINE_AA)  \n",
    "plt.imshow(im)"
   ]
  },
  {
   "cell_type": "markdown",
   "metadata": {},
   "source": [
    "## 生成标注文件"
   ]
  },
  {
   "cell_type": "code",
   "execution_count": 47,
   "metadata": {},
   "outputs": [],
   "source": [
    "import xml.etree.ElementTree as ET\n",
    "\n",
    "def createXMLlabel(savedir,objectnum, bbox, classname=None, foldername='0',filename='0', path='0', database='road', width='400', height='600',depth='3', segmented='0', pose=\"Unspecified\", truncated='0', difficult='0'):\n",
    "    # 创建根节点\n",
    "    root = ET.Element(\"annotation\")\n",
    " \n",
    "    # 创建子节点\n",
    "    folder_node = ET.Element(\"folder\")\n",
    "    folder_node.text = foldername\n",
    "    # 将子节点数据添加到根节点\n",
    "    root.append(folder_node)\n",
    " \n",
    "    file_node = ET.Element(\"filename\")\n",
    "    file_node.text = filename\n",
    "    root.append(file_node)\n",
    "    path_node = ET.Element(\"path\")\n",
    "    path_node.text = path\n",
    "    root.append(path_node)\n",
    " \n",
    "    source_node = ET.Element(\"source\")\n",
    "    # 也可以使用SubElement直接添加子节点\n",
    "    db_node = ET.SubElement(source_node, \"database\")\n",
    "    db_node.text = database\n",
    "    root.append(source_node)\n",
    " \n",
    "    size_node = ET.Element(\"size\")\n",
    "    width_node = ET.SubElement(size_node, \"width\")\n",
    "    height_node = ET.SubElement(size_node, \"height\")\n",
    "    depth_node = ET.SubElement(size_node, \"depth\")\n",
    "    width_node.text = str(width)\n",
    "    height_node.text = str(height)\n",
    "    depth_node.text = str(depth)\n",
    "    root.append(size_node)\n",
    " \n",
    "    seg_node = ET.Element(\"segmented\")\n",
    "    seg_node.text = segmented\n",
    "    root.append(seg_node)\n",
    "    \n",
    "    for i in range(objectnum):\n",
    "        newEle = ET.Element(\"object\")\n",
    "        name = ET.Element(\"name\")\n",
    "        if classname:\n",
    "            name.text = classname\n",
    "        else:\n",
    "            name.text=bbox[i][4]\n",
    "        newEle.append(name)\n",
    "        pose_node = ET.Element(\"pose\")\n",
    "        pose_node.text = pose\n",
    "        newEle.append(pose_node)\n",
    "        trunc = ET.Element(\"truncated\")\n",
    "        trunc.text = truncated\n",
    "        newEle.append(trunc)\n",
    "        dif = ET.Element(\"difficult\")\n",
    "        dif.text = difficult\n",
    "        newEle.append(dif)\n",
    "        boundingbox = ET.Element(\"bndbox\")\n",
    "        xmin = ET.SubElement(boundingbox, \"xmin\")\n",
    "        ymin = ET.SubElement(boundingbox, \"ymin\")\n",
    "        xmax = ET.SubElement(boundingbox, \"xmax\")\n",
    "        ymax = ET.SubElement(boundingbox, \"ymax\")\n",
    "        xmin.text = str(int(bbox[i][0]))\n",
    "        ymin.text = str(int(bbox[i][1]))\n",
    "        xmax.text = str(int(bbox[i][2]))\n",
    "        ymax.text = str(int(bbox[i][3]))\n",
    "        newEle.append(boundingbox)\n",
    "        root.append(newEle)\n",
    " \n",
    "    ImageID = filename.split('.')[0]\n",
    "    # 创建elementtree对象，写入文件\n",
    "    tree = ET.ElementTree(root)\n",
    "    tree.write(savedir + '/'+ ImageID + \".xml\")\n",
    " "
   ]
  },
  {
   "cell_type": "code",
   "execution_count": 48,
   "metadata": {},
   "outputs": [],
   "source": [
    "root=Path(r'')\n",
    "images = root/'JPEGImages'\n",
    "masks = root/'Segmentations'\n",
    "annos = root/'Annotations'\n",
    "if not annos.exists():\n",
    "    annos.mkdir()\n",
    "for m in masks.files():\n",
    "\n",
    "    mask = cv2.imread(m,0)\n",
    "    bbox = newgetboundingbox(mask)\n",
    "\n",
    "    objectnum = len(bbox)\n",
    "    image_name = f'{m.stem}.jpg'\n",
    "    height,width = mask.shape\n",
    "\n",
    "    foldername = 'JPEGImages'\n",
    "    impath  = images/image_name\n",
    "    \n",
    "    database = 'Unknown'\n",
    "    depth = '3'\n",
    "    classname='fire'\n",
    "    \n",
    "    createXMLlabel(annos,objectnum, bbox, classname, foldername=foldername,filename=image_name, path=impath,\n",
    "                    database=database, width=width, height=height,depth=depth, segmented='0', pose=\"Unspecified\",\n",
    "                    truncated='0', difficult='0')"
   ]
  },
  {
   "cell_type": "code",
   "execution_count": null,
   "metadata": {},
   "outputs": [],
   "source": []
  }
 ],
 "metadata": {
  "kernelspec": {
   "display_name": "base",
   "language": "python",
   "name": "python3"
  },
  "language_info": {
   "codemirror_mode": {
    "name": "ipython",
    "version": 3
   },
   "file_extension": ".py",
   "mimetype": "text/x-python",
   "name": "python",
   "nbconvert_exporter": "python",
   "pygments_lexer": "ipython3",
   "version": "3.9.13"
  },
  "orig_nbformat": 4
 },
 "nbformat": 4,
 "nbformat_minor": 2
}
