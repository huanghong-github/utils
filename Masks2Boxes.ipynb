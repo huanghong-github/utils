{
 "cells": [
  {
   "cell_type": "code",
   "execution_count": null,
   "metadata": {},
   "outputs": [],
   "source": [
    "import torch\n",
    "from torchvision.io import read_image\n",
    "from torchvision.utils import draw_segmentation_masks,draw_bounding_boxes\n",
    "from torchvision.ops import masks_to_boxes\n",
    "import torchvision.transforms.functional as F\n",
    "\n",
    "import numpy as np\n",
    "from path import Path\n",
    "import matplotlib.pyplot as plt\n",
    "\n",
    "plt.rcParams[\"savefig.bbox\"] = \"tight\""
   ]
  },
  {
   "attachments": {},
   "cell_type": "markdown",
   "metadata": {},
   "source": [
    "## 实例分割转目标检测"
   ]
  },
  {
   "cell_type": "code",
   "execution_count": null,
   "metadata": {},
   "outputs": [],
   "source": [
    "def show(imgs):\n",
    "    if not isinstance(imgs, list):\n",
    "        imgs = [imgs]\n",
    "    fix, axs = plt.subplots(ncols=len(imgs), squeeze=False)\n",
    "    for i, img in enumerate(imgs):\n",
    "        img = img.detach()\n",
    "        img = F.to_pil_image(img)\n",
    "        axs[0, i].imshow(np.asarray(img))\n",
    "        axs[0, i].set(xticklabels=[], yticklabels=[], xticks=[], yticks=[])"
   ]
  },
  {
   "cell_type": "code",
   "execution_count": null,
   "metadata": {},
   "outputs": [],
   "source": [
    "maskpath=Path(r'0.png')\n",
    "imagepath=Path(r'0.jpg')\n",
    "mask=read_image(maskpath)\n",
    "img=read_image(imagepath)\n",
    "\n",
    "obj_ids = torch.unique(mask)\n",
    "\n",
    "# first id is the background, so remove it.\n",
    "obj_ids = obj_ids[1:]\n",
    "\n",
    "# split the color-encoded mask into a set of boolean masks.\n",
    "# Note that this snippet would work as well if the masks were float values instead of ints.\n",
    "masks = mask == obj_ids[:, None, None]\n",
    "masks.size()"
   ]
  },
  {
   "cell_type": "code",
   "execution_count": null,
   "metadata": {},
   "outputs": [],
   "source": [
    "\n",
    "drawn_masks = []\n",
    "for mask in masks:\n",
    "    drawn_masks.append(draw_segmentation_masks(img, mask, alpha=0.8, colors=\"blue\"))\n",
    "\n",
    "show(drawn_masks)"
   ]
  },
  {
   "cell_type": "code",
   "execution_count": null,
   "metadata": {},
   "outputs": [],
   "source": [
    "boxes = masks_to_boxes(masks)\n",
    "print(boxes.size())\n",
    "print(boxes)"
   ]
  },
  {
   "cell_type": "code",
   "execution_count": null,
   "metadata": {},
   "outputs": [],
   "source": [
    "drawn_boxes = draw_bounding_boxes(img, boxes, colors=\"red\")\n",
    "show(drawn_boxes)"
   ]
  },
  {
   "cell_type": "markdown",
   "metadata": {},
   "source": [
    "## 语义分割转目标检测"
   ]
  },
  {
   "cell_type": "code",
   "execution_count": null,
   "metadata": {},
   "outputs": [],
   "source": [
    "import cv2\n",
    "from path import Path\n",
    "from skimage import morphology,measure\n",
    "from box import Box,Label,ImageDir\n",
    "from functools import partial"
   ]
  },
  {
   "cell_type": "code",
   "execution_count": null,
   "metadata": {},
   "outputs": [],
   "source": [
    "def getboundingbox(imdata,min_size=10):\n",
    "    if isinstance(imdata,Label):\n",
    "        imdata=cv2.imread(imdata.label_path,cv2.IMREAD_GRAYSCALE)\n",
    "    mask=imdata>0\n",
    "    # 删掉小于min_size的目标\n",
    "    mask_without_small = morphology.remove_small_objects(mask,min_size=min_size,connectivity=2)\n",
    "    # 连通域标记\n",
    "    label_image = measure.label(mask_without_small,connectivity=2)\n",
    "    #得到锚框\n",
    "    regionprops= measure.regionprops(label_image)\n",
    "    boundingbox = [region.bbox for region in regionprops]\n",
    "    # minx,miny,maxx,maxy\n",
    "    boundingbox = [Box(box[1],box[0],box[3],box[2],'capacitor') for box in boundingbox]\n",
    "    return boundingbox"
   ]
  },
  {
   "cell_type": "code",
   "execution_count": null,
   "metadata": {},
   "outputs": [],
   "source": [
    "def newgetboundingbox(imdata, min_size=2, ksize=(5,5)):\n",
    "    # 通过膨胀去连通，可以min_size筛除小目标,或者通过锚框面积筛除\n",
    "    # 通过kernel调整膨胀\n",
    "    ## 膨胀\n",
    "    if isinstance(imdata,Label):\n",
    "        imdata=cv2.imread(imdata.label_path,cv2.IMREAD_GRAYSCALE)\n",
    "    kernel = cv2.getStructuringElement(cv2.MORPH_ELLIPSE, ksize=ksize)\n",
    "    dilated = cv2.dilate(imdata.copy(), kernel, 1)\n",
    "    # plt.imshow(dilated)\n",
    "    bboxs = getboundingbox(dilated,min_size)\n",
    "    # print(bboxs)\n",
    "    ## 细化锚框\n",
    "    tbboxs =getboundingbox(imdata,min_size)\n",
    "    # print(tbboxs)\n",
    "    cluster=[]\n",
    "    for bbox in bboxs:\n",
    "        tmp=[]\n",
    "        for tbbox in tbboxs:\n",
    "            if tbbox.xmin>=bbox.xmin and tbbox.ymin>=bbox.ymin and tbbox.xmax<=bbox.xmax and tbbox.ymax<=bbox.ymax:\n",
    "                tmp.append(tbbox)\n",
    "        cluster.append(tmp)\n",
    "\n",
    "    res=[]\n",
    "    for i in cluster:\n",
    "        # print(i)\n",
    "        xy=list(zip(*i))\n",
    "        if xy:\n",
    "            # minx,miny,maxx,maxy\n",
    "            res.append(Box(min(xy[0]),min(xy[1]),max(xy[2]),max(xy[3]),'capacitor'))\n",
    "    return res"
   ]
  },
  {
   "cell_type": "code",
   "execution_count": null,
   "metadata": {},
   "outputs": [],
   "source": [
    "JPEG=Path(r'D:\\Downloads\\Capacitors\\newvoc\\train\\images')\n",
    "MASK=Path(r'D:\\Downloads\\Capacitors\\newvoc\\Segmentation') \n",
    "newgetboundingbox=partial(getboundingbox,min_size=500)\n",
    "for im in JPEG.files():\n",
    "    ma=MASK/f\"{im.stem}.png\"\n",
    "    label=Label(im,ma,['capacitor'])\n",
    "    label.convert(newgetboundingbox)\n",
    "    # label.cv_show()\n",
    "    label.unload('yolo')\n",
    "\n",
    "imd=ImageDir(JPEG)\n",
    "imd.create_yolo()\n",
    "# 考虑DBSCAN是否可以实现"
   ]
  }
 ],
 "metadata": {
  "kernelspec": {
   "display_name": "base",
   "language": "python",
   "name": "python3"
  },
  "language_info": {
   "codemirror_mode": {
    "name": "ipython",
    "version": 3
   },
   "file_extension": ".py",
   "mimetype": "text/x-python",
   "name": "python",
   "nbconvert_exporter": "python",
   "pygments_lexer": "ipython3",
   "version": "3.9.13"
  },
  "orig_nbformat": 4
 },
 "nbformat": 4,
 "nbformat_minor": 2
}
