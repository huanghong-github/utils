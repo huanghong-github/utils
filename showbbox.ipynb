{
 "cells": [
  {
   "cell_type": "code",
   "execution_count": 5,
   "metadata": {},
   "outputs": [],
   "source": [
    "import matplotlib.patches as patch\n",
    "import matplotlib.pyplot as plt\n",
    "from path import Path\n",
    "import xml.etree.ElementTree as ET\n",
    "\n",
    "rootdir=Path(r'D:\\Downloads\\LANSAT8_Activate_Fire_128\\LANSAT8_Activate_Fire_128')\n",
    "images=rootdir/'JPEGImages'\n",
    "annos = rootdir/'Annotations'\n",
    "classes=['fire',]"
   ]
  },
  {
   "cell_type": "code",
   "execution_count": 6,
   "metadata": {},
   "outputs": [],
   "source": [
    "\n",
    "def convert_annotation(in_file):\n",
    "    tree=ET.parse(in_file)\n",
    "    root = tree.getroot()\n",
    "    res=[]\n",
    "    # width=int(root.find('size').find('width').text)\n",
    "    # height=int(root.find('size').find('height').text)\n",
    "    # res.append(width)\n",
    "    # res.append(height)\n",
    "    for obj in root.iter('object'):\n",
    "        difficult = 0 \n",
    "        if obj.find('difficult')!=None:\n",
    "            difficult = obj.find('difficult').text\n",
    "        cls = obj.find('name').text\n",
    "        if cls not in classes or int(difficult)==1:\n",
    "            continue\n",
    "        cls_id = classes.index(cls)\n",
    "        xmlbox = obj.find('bndbox')\n",
    "        b = ((float(xmlbox.find('xmin').text)), (float(xmlbox.find('ymin').text)), (float(xmlbox.find('xmax').text)), (float(xmlbox.find('ymax').text)))\n",
    "        res.append([*b,cls_id,cls])\n",
    "    return res\n"
   ]
  },
  {
   "cell_type": "code",
   "execution_count": null,
   "metadata": {},
   "outputs": [],
   "source": [
    "impath=images.files()[0]\n",
    "bbox=convert_annotation(annos/f'{impath.stem}.xml')\n",
    "im=plt.imread(impath)\n",
    "# print(bbox)\n",
    "ax=plt.subplot(1,1,1)\n",
    "\n",
    "for box in bbox:\n",
    "    rect = patch.Rectangle((box[0], box[1]), box[2]-box[0], box[3]-box[1], edgecolor = 'g', linewidth = 1, fill = False)\n",
    "    ax.add_patch(rect)\n",
    "    ax.text(box[0],box[1]-3,box[5],fontsize=10,color='r')\n",
    "# ax.set_title(impath.name)\n",
    "plt.axis('off')\n",
    "ax.imshow(im)\n"
   ]
  },
  {
   "cell_type": "code",
   "execution_count": null,
   "metadata": {},
   "outputs": [],
   "source": [
    "\n",
    "plt.figure(figsize=(10,20))\n",
    "for i,impath in enumerate(images.files()[:10]):\n",
    "    bbox=convert_annotation(annos/f'{impath.stem}.xml')\n",
    "        \n",
    "    im=plt.imread(impath)\n",
    "    ax=plt.subplot(5,2,i+1)\n",
    "\n",
    "    for box in bbox:\n",
    "        rect = patch.Rectangle((box[0], box[1]), box[2]-box[0], box[3]-box[1], edgecolor = 'g', linewidth = 1, fill = False)\n",
    "        ax.add_patch(rect)\n",
    "        ax.text(box[0],box[1]-3,box[5],fontsize=10,color='r')\n",
    "    # ax.set_title(impath.name)\n",
    "    plt.axis('off')\n",
    "    ax.imshow(im)\n",
    "        \n",
    "        "
   ]
  },
  {
   "cell_type": "code",
   "execution_count": null,
   "metadata": {},
   "outputs": [],
   "source": []
  }
 ],
 "metadata": {
  "kernelspec": {
   "display_name": "base",
   "language": "python",
   "name": "python3"
  },
  "language_info": {
   "codemirror_mode": {
    "name": "ipython",
    "version": 3
   },
   "file_extension": ".py",
   "mimetype": "text/x-python",
   "name": "python",
   "nbconvert_exporter": "python",
   "pygments_lexer": "ipython3",
   "version": "3.9.13"
  },
  "orig_nbformat": 4
 },
 "nbformat": 4,
 "nbformat_minor": 2
}
