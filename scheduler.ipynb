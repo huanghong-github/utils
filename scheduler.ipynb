{
 "cells": [
  {
   "cell_type": "code",
   "execution_count": null,
   "metadata": {},
   "outputs": [],
   "source": [
    "from matplotlib import pyplot as plt\n",
    "from torch import nn, optim\n",
    "\n",
    "model = nn.Linear(1, 1)\n",
    "\n",
    "optimizer = optim.SGD(model.parameters(), lr=0.01, momentum=0.9)\n",
    "scheduler = optim.lr_scheduler.CosineAnnealingLR(optimizer, T_max=30)\n",
    "\n",
    "x = []\n",
    "y = []\n",
    "for i in range(200):\n",
    "    optimizer.step()\n",
    "    scheduler.step()\n",
    "    last_lr = scheduler.get_lr()[0]\n",
    "    x.append(i)\n",
    "    y.append(last_lr)\n",
    "plt.plot(x, y, linewidth=1, color=\"red\", marker=\"o\")\n",
    "plt.show()"
   ]
  },
  {
   "cell_type": "code",
   "execution_count": null,
   "metadata": {},
   "outputs": [],
   "source": [
    "from torch.utils.data import DataLoader, Dataset\n",
    "from torch import nn\n",
    "import torch\n",
    "\n",
    "\n",
    "class FakeDataset(Dataset):\n",
    "    def __getitem__(self, index):\n",
    "        return torch.rand(1, 64, 64), torch.randint(0, 9, (1,))[0]\n",
    "\n",
    "    def __len__(self) -> int:\n",
    "        return 80\n",
    "\n",
    "\n",
    "dataset = FakeDataset()\n",
    "dataloader = DataLoader(\n",
    "    dataset, batch_size=16, shuffle=True, drop_last=True, pin_memory=True\n",
    ")\n",
    "\n",
    "model = nn.Sequential(nn.Flatten(), nn.Linear(64 * 64, 10), nn.ReLU(inplace=True))\n",
    "\n",
    "# images,labels= next(iter(dataloader))\n",
    "# 80/16\n",
    "print(len(dataloader))"
   ]
  }
 ],
 "metadata": {
  "kernelspec": {
   "display_name": "base",
   "language": "python",
   "name": "python3"
  },
  "language_info": {
   "codemirror_mode": {
    "name": "ipython",
    "version": 3
   },
   "file_extension": ".py",
   "mimetype": "text/x-python",
   "name": "python",
   "nbconvert_exporter": "python",
   "pygments_lexer": "ipython3",
   "version": "3.9.13"
  },
  "orig_nbformat": 4
 },
 "nbformat": 4,
 "nbformat_minor": 2
}
