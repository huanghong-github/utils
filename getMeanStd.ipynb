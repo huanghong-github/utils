{
 "cells": [
  {
   "cell_type": "code",
   "execution_count": null,
   "metadata": {},
   "outputs": [],
   "source": [
    "import torch\n",
    "from torch.utils.data import DataLoader,Dataset\n",
    "from torchvision.transforms import transforms\n",
    "from path import Path\n",
    "from PIL import Image\n",
    "\n",
    "images=Path(r'JPEGImages')\n",
    "\n",
    "class CatData(Dataset):\n",
    "    def __init__(self,files,transformer):\n",
    "        super().__init__()\n",
    "        self.transformer=transformer\n",
    "        self.files=files\n",
    "          \n",
    "    def __getitem__(self, index):\n",
    "        # 读取图片\n",
    "        image_path = self.files[index]\n",
    "        image = Image.open(image_path)      \n",
    "        features = self.transformer(image)\n",
    "        return features, 0\n",
    "    \n",
    "    def __len__(self):\n",
    "        return len(self.files)\n",
    "\n",
    "trans = transforms.Compose([\n",
    "    transforms.Resize((410, 410)),\n",
    "    transforms.ToTensor()\n",
    "])\n",
    "\n",
    "train_dataset = CatData(images.files(), trans)\n",
    "train_loader = DataLoader(dataset=train_dataset, batch_size=16, shuffle=True)\n",
    "\n",
    "\n",
    "def get_mean_std(loader):\n",
    "    # Var[x] = E[X**2]-E[X]**2\n",
    "    channels_sum, channels_squared_sum, num_batches = 0, 0, 0\n",
    "    for data, _ in loader:\n",
    "        channels_sum += torch.mean(data, dim=[0, 2, 3])\n",
    "        channels_squared_sum += torch.mean(data ** 2, dim=[0, 2, 3])\n",
    "        num_batches += 1\n",
    "\n",
    "    # print(num_batches)\n",
    "    # print(channels_sum)\n",
    "    mean = channels_sum / num_batches\n",
    "    std = (channels_squared_sum / num_batches - mean ** 2) ** 0.5\n",
    "\n",
    "    return mean, std\n",
    "\n",
    "\n",
    "mean, std = get_mean_std(train_loader)\n",
    "\n",
    "print(mean)\n",
    "print(std)"
   ]
  }
 ],
 "metadata": {
  "kernelspec": {
   "display_name": "base",
   "language": "python",
   "name": "python3"
  },
  "language_info": {
   "codemirror_mode": {
    "name": "ipython",
    "version": 3
   },
   "file_extension": ".py",
   "mimetype": "text/x-python",
   "name": "python",
   "nbconvert_exporter": "python",
   "pygments_lexer": "ipython3",
   "version": "3.9.13"
  },
  "orig_nbformat": 4
 },
 "nbformat": 4,
 "nbformat_minor": 2
}
